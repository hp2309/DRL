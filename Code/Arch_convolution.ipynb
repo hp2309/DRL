{
 "cells": [
  {
   "cell_type": "code",
   "execution_count": 81,
   "id": "6ce4b731-56e8-4652-b193-fc39e79f64c5",
   "metadata": {},
   "outputs": [],
   "source": [
    "import tensorflow as tf\n",
    "N = 1000"
   ]
  },
  {
   "cell_type": "code",
   "execution_count": 82,
   "id": "d5cca386-ef42-4c50-93e0-e83183b8fce1",
   "metadata": {},
   "outputs": [],
   "source": [
    "#First Convolutional Layer\n",
    "input_shape = (N, 3, 64, 64)\n",
    "#model = tf.keras.sequential()\n",
    "x = tf.random.normal(input_shape)\n",
    "y = tf.keras.layers.Conv2D(filters= 32, kernel_size = (4, 4), strides=(2, 2), padding=\"same\", data_format=\"channels_first\", dilation_rate= 1, activation='elu', input_shape=(3, 64, 64), use_bias=True, kernel_initializer=\"glorot_uniform\", bias_initializer=\"zeros\")(x)\n"
   ]
  },
  {
   "cell_type": "code",
   "execution_count": 84,
   "id": "f16c0f07-d460-4324-b1ea-d20d5a20d26f",
   "metadata": {},
   "outputs": [
    {
     "name": "stdout",
     "output_type": "stream",
     "text": [
      "(1000, 32, 32, 32)\n"
     ]
    }
   ],
   "source": [
    "print(y.shape)"
   ]
  },
  {
   "cell_type": "code",
   "execution_count": 85,
   "id": "992c8e67-471b-4927-b1e5-6a9104ea1829",
   "metadata": {},
   "outputs": [],
   "source": [
    "#Second Convolutional Layer\n",
    "#model = tf.keras.sequential()\n",
    "y2 = tf.keras.layers.Conv2D(filters= 64, kernel_size = (4, 4), strides=(2, 2), padding=\"same\", data_format=\"channels_first\", dilation_rate= 1, activation='elu', input_shape=(3, 64, 64), use_bias=True, kernel_initializer=\"glorot_uniform\", bias_initializer=\"zeros\")(y)\n"
   ]
  },
  {
   "cell_type": "code",
   "execution_count": 86,
   "id": "b832bba6-7b51-4569-8977-3f50385cb7ee",
   "metadata": {},
   "outputs": [
    {
     "name": "stdout",
     "output_type": "stream",
     "text": [
      "(1000, 64, 16, 16)\n"
     ]
    }
   ],
   "source": [
    "print(y2.shape)"
   ]
  },
  {
   "cell_type": "code",
   "execution_count": 87,
   "id": "c1e6c673-2709-4595-aa25-d9007330c72f",
   "metadata": {},
   "outputs": [],
   "source": [
    "#Third Convolutional Layer\n",
    "input_shape = (N, 3, 64, 64)\n",
    "#model = tf.keras.sequential()\n",
    "y3 = tf.keras.layers.Conv2D(filters= 64, kernel_size = (3, 3), strides=(1, 1), padding=\"same\", data_format=\"channels_first\", dilation_rate= 1, activation='elu', input_shape=(3, 64, 64), use_bias=True, kernel_initializer=\"glorot_uniform\", bias_initializer=\"zeros\")(y2)\n"
   ]
  },
  {
   "cell_type": "code",
   "execution_count": 88,
   "id": "e60fc113-4070-4c49-bb8d-baee50f05959",
   "metadata": {},
   "outputs": [
    {
     "name": "stdout",
     "output_type": "stream",
     "text": [
      "(1000, 64, 16, 16)\n"
     ]
    }
   ],
   "source": [
    "print(y3.shape)"
   ]
  },
  {
   "cell_type": "code",
   "execution_count": 89,
   "id": "38c4a401-421a-47f3-a1f2-217242a68a17",
   "metadata": {},
   "outputs": [],
   "source": [
    "#Fourth Convolutional Layer\n",
    "input_shape = (N, 3, 64, 64)\n",
    "#model = tf.keras.sequential()\n",
    "y4 = tf.keras.layers.Conv2D(filters= 32, kernel_size = (3, 3), strides=(1, 1), padding=\"same\", data_format=\"channels_first\", dilation_rate= 1, activation='elu', input_shape=(3, 64, 64), use_bias=True, kernel_initializer=\"glorot_uniform\", bias_initializer=\"zeros\")(y3)\n"
   ]
  },
  {
   "cell_type": "code",
   "execution_count": 90,
   "id": "2bee4417-59c9-46f7-9f38-8620dabc0d6a",
   "metadata": {},
   "outputs": [
    {
     "name": "stdout",
     "output_type": "stream",
     "text": [
      "(1000, 32, 16, 16)\n"
     ]
    }
   ],
   "source": [
    "print(y4.shape)"
   ]
  },
  {
   "cell_type": "code",
   "execution_count": 91,
   "id": "89ee52e9-0dd3-460a-bb61-cd7522ff796d",
   "metadata": {},
   "outputs": [],
   "source": [
    "#Upsampling Layer\n",
    "y5 = tf.keras.layers.UpSampling2D(size = (2, 2), data_format=\"channels_first\")(y4)"
   ]
  },
  {
   "cell_type": "code",
   "execution_count": 92,
   "id": "f768871f-c794-4214-a74c-8a8c05243cf4",
   "metadata": {},
   "outputs": [
    {
     "name": "stdout",
     "output_type": "stream",
     "text": [
      "(1000, 32, 32, 32)\n"
     ]
    }
   ],
   "source": [
    "print(y5.shape)"
   ]
  },
  {
   "cell_type": "code",
   "execution_count": 95,
   "id": "b0798bbc-419b-42aa-b9eb-c23df3d62b78",
   "metadata": {},
   "outputs": [],
   "source": [
    "#Concatenating Layer\n",
    "y6 = tf.keras.layers.concatenate([y, y5], axis = 1)"
   ]
  },
  {
   "cell_type": "code",
   "execution_count": 96,
   "id": "5ab9f4c5-b454-40f6-9b11-1e0ac6b006e5",
   "metadata": {},
   "outputs": [
    {
     "name": "stdout",
     "output_type": "stream",
     "text": [
      "(1000, 64, 32, 32)\n"
     ]
    }
   ],
   "source": [
    "print(y6.shape)"
   ]
  },
  {
   "cell_type": "code",
   "execution_count": 97,
   "id": "5850c81e-64c8-40f6-bf98-abfba069c0b8",
   "metadata": {},
   "outputs": [],
   "source": [
    "#Second Convolutional Layer\n",
    "#model = tf.keras.sequential()\n",
    "y7 = tf.keras.layers.Conv2D(filters= 64, kernel_size = (4, 4), strides=(2, 2), padding=\"same\", data_format=\"channels_first\", dilation_rate= 1, activation='elu', input_shape=(3, 64, 64), use_bias=True, kernel_initializer=\"glorot_uniform\", bias_initializer=\"zeros\")(y6)\n"
   ]
  },
  {
   "cell_type": "code",
   "execution_count": 98,
   "id": "07019c9f-e855-4d90-8166-332c26846975",
   "metadata": {},
   "outputs": [
    {
     "name": "stdout",
     "output_type": "stream",
     "text": [
      "(1000, 64, 16, 16)\n"
     ]
    }
   ],
   "source": [
    "print(y7.shape)"
   ]
  }
 ],
 "metadata": {
  "kernelspec": {
   "display_name": "Work",
   "language": "python",
   "name": "peeves"
  },
  "language_info": {
   "codemirror_mode": {
    "name": "ipython",
    "version": 3
   },
   "file_extension": ".py",
   "mimetype": "text/x-python",
   "name": "python",
   "nbconvert_exporter": "python",
   "pygments_lexer": "ipython3",
   "version": "3.9.7"
  }
 },
 "nbformat": 4,
 "nbformat_minor": 5
}
