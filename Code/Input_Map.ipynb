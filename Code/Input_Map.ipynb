{
 "cells": [
  {
   "cell_type": "code",
   "execution_count": 140,
   "id": "b3ebddde-0c77-4c67-bfbf-a384aa4ee5d3",
   "metadata": {},
   "outputs": [],
   "source": [
    "import numpy as np\n",
    "grid = np.zeros((384, 384))\n",
    "weights = {-1: 0.02, 0: 0.08, 100: 0.9} #unknown -1, open 0, occupied 100; in order\n",
    "#I will get the grid somehow\n",
    "grid = np.reshape(grid, (384, 384))\n",
    "small_grid = np.ones((64, 64))"
   ]
  },
  {
   "cell_type": "code",
   "execution_count": 141,
   "id": "0d63abd3-cd3c-4867-aba5-b5cfd46af4a0",
   "metadata": {},
   "outputs": [],
   "source": [
    "for i in range(0, 384, 6):\n",
    "    for j in range(0, 384, 6):\n",
    "        sub_grid = grid[i:i+6,j:j+6]\n",
    "        info, freq = np.unique(sub_grid, return_counts = True)\n",
    "        d = {-1: 0, 0: 0, 100: 0}\n",
    "        weighted_sum = {}\n",
    "        for k in range(len(info)):\n",
    "            d[info[k]] = freq[k]\n",
    "        weighted_sum[-1] = weights[-1]*d[-1]\n",
    "        weighted_sum[0] = weights[0]*d[0]\n",
    "        weighted_sum[100] = weights[100]*d[100]\n",
    "        key_list = list(weighted_sum.keys())\n",
    "        val_list = list(weighted_sum.values())\n",
    "        state = key_list[val_list.index(max(val_list))]\n",
    "        small_grid[i//6][j//6] = state\n",
    "        \n",
    "        "
   ]
  },
  {
   "cell_type": "code",
   "execution_count": 143,
   "id": "53331790-e159-41d9-a481-d1a1f305a829",
   "metadata": {},
   "outputs": [
    {
     "data": {
      "text/plain": [
       "(64, 64)"
      ]
     },
     "execution_count": 143,
     "metadata": {},
     "output_type": "execute_result"
    }
   ],
   "source": [
    "np.shape(small_grid)"
   ]
  }
 ],
 "metadata": {
  "kernelspec": {
   "display_name": "Work",
   "language": "python",
   "name": "peeves"
  },
  "language_info": {
   "codemirror_mode": {
    "name": "ipython",
    "version": 3
   },
   "file_extension": ".py",
   "mimetype": "text/x-python",
   "name": "python",
   "nbconvert_exporter": "python",
   "pygments_lexer": "ipython3",
   "version": "3.9.7"
  }
 },
 "nbformat": 4,
 "nbformat_minor": 5
}
